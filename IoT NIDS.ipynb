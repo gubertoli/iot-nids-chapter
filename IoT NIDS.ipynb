{
 "cells": [
  {
   "cell_type": "code",
   "execution_count": 1,
   "id": "f6bc5b58-085d-44c1-bbae-478e80d43eb3",
   "metadata": {},
   "outputs": [],
   "source": [
    "import pandas as pd\n",
    "import numpy as np\n",
    "\n",
    "pd.set_option('display.max_columns', 200)"
   ]
  },
  {
   "cell_type": "code",
   "execution_count": 29,
   "id": "4a3f2ee9-8788-4800-96c1-c2470ad49321",
   "metadata": {},
   "outputs": [],
   "source": [
    "# data processing\n",
    "from sklearn.model_selection import train_test_split\n",
    "from sklearn.preprocessing import StandardScaler\n",
    "\n",
    "# supervised methods\n",
    "from sklearn.tree import DecisionTreeClassifier\n",
    "from sklearn.ensemble import RandomForestClassifier\n",
    "from sklearn.metrics import classification_report, roc_auc_score, roc_curve, accuracy_score, precision_recall_fscore_support\n",
    "from sklearn.svm import SVC\n",
    "from sklearn.linear_model import LogisticRegression"
   ]
  },
  {
   "cell_type": "code",
   "execution_count": 3,
   "id": "148a04ab-8762-4f2f-98d7-a5c5ba3500ac",
   "metadata": {},
   "outputs": [],
   "source": [
    "# unsupervised method\n",
    "from sklearn.cluster import KMeans\n",
    "from sklearn.metrics import silhouette_score"
   ]
  },
  {
   "cell_type": "markdown",
   "id": "b9ed115e-b99b-49b1-acfb-9907a3cae392",
   "metadata": {},
   "source": [
    "## Loading the TON_IoT dataset and having a preview of the data"
   ]
  },
  {
   "cell_type": "code",
   "execution_count": 4,
   "id": "3a95486b-14e4-4fcd-ab49-1a759aabb587",
   "metadata": {},
   "outputs": [
    {
     "data": {
      "text/html": [
       "<div>\n",
       "<style scoped>\n",
       "    .dataframe tbody tr th:only-of-type {\n",
       "        vertical-align: middle;\n",
       "    }\n",
       "\n",
       "    .dataframe tbody tr th {\n",
       "        vertical-align: top;\n",
       "    }\n",
       "\n",
       "    .dataframe thead th {\n",
       "        text-align: right;\n",
       "    }\n",
       "</style>\n",
       "<table border=\"1\" class=\"dataframe\">\n",
       "  <thead>\n",
       "    <tr style=\"text-align: right;\">\n",
       "      <th></th>\n",
       "      <th>src_ip</th>\n",
       "      <th>src_port</th>\n",
       "      <th>dst_ip</th>\n",
       "      <th>dst_port</th>\n",
       "      <th>proto</th>\n",
       "      <th>service</th>\n",
       "      <th>duration</th>\n",
       "      <th>src_bytes</th>\n",
       "      <th>dst_bytes</th>\n",
       "      <th>conn_state</th>\n",
       "      <th>missed_bytes</th>\n",
       "      <th>src_pkts</th>\n",
       "      <th>src_ip_bytes</th>\n",
       "      <th>dst_pkts</th>\n",
       "      <th>dst_ip_bytes</th>\n",
       "      <th>dns_query</th>\n",
       "      <th>dns_qclass</th>\n",
       "      <th>dns_qtype</th>\n",
       "      <th>dns_rcode</th>\n",
       "      <th>dns_AA</th>\n",
       "      <th>dns_RD</th>\n",
       "      <th>dns_RA</th>\n",
       "      <th>dns_rejected</th>\n",
       "      <th>ssl_version</th>\n",
       "      <th>ssl_cipher</th>\n",
       "      <th>ssl_resumed</th>\n",
       "      <th>ssl_established</th>\n",
       "      <th>ssl_subject</th>\n",
       "      <th>ssl_issuer</th>\n",
       "      <th>http_trans_depth</th>\n",
       "      <th>http_method</th>\n",
       "      <th>http_uri</th>\n",
       "      <th>http_version</th>\n",
       "      <th>http_request_body_len</th>\n",
       "      <th>http_response_body_len</th>\n",
       "      <th>http_status_code</th>\n",
       "      <th>http_user_agent</th>\n",
       "      <th>http_orig_mime_types</th>\n",
       "      <th>http_resp_mime_types</th>\n",
       "      <th>weird_name</th>\n",
       "      <th>weird_addl</th>\n",
       "      <th>weird_notice</th>\n",
       "      <th>label</th>\n",
       "      <th>type</th>\n",
       "    </tr>\n",
       "  </thead>\n",
       "  <tbody>\n",
       "    <tr>\n",
       "      <th>0</th>\n",
       "      <td>192.168.1.37</td>\n",
       "      <td>4444</td>\n",
       "      <td>192.168.1.193</td>\n",
       "      <td>49178</td>\n",
       "      <td>tcp</td>\n",
       "      <td>-</td>\n",
       "      <td>290.371539</td>\n",
       "      <td>101568</td>\n",
       "      <td>2592</td>\n",
       "      <td>OTH</td>\n",
       "      <td>0</td>\n",
       "      <td>108</td>\n",
       "      <td>108064</td>\n",
       "      <td>31</td>\n",
       "      <td>3832</td>\n",
       "      <td>-</td>\n",
       "      <td>0</td>\n",
       "      <td>0</td>\n",
       "      <td>0</td>\n",
       "      <td>-</td>\n",
       "      <td>-</td>\n",
       "      <td>-</td>\n",
       "      <td>-</td>\n",
       "      <td>-</td>\n",
       "      <td>-</td>\n",
       "      <td>-</td>\n",
       "      <td>-</td>\n",
       "      <td>-</td>\n",
       "      <td>-</td>\n",
       "      <td>-</td>\n",
       "      <td>-</td>\n",
       "      <td>-</td>\n",
       "      <td>-</td>\n",
       "      <td>0</td>\n",
       "      <td>0</td>\n",
       "      <td>0</td>\n",
       "      <td>-</td>\n",
       "      <td>-</td>\n",
       "      <td>-</td>\n",
       "      <td>-</td>\n",
       "      <td>-</td>\n",
       "      <td>-</td>\n",
       "      <td>1</td>\n",
       "      <td>backdoor</td>\n",
       "    </tr>\n",
       "    <tr>\n",
       "      <th>1</th>\n",
       "      <td>192.168.1.193</td>\n",
       "      <td>49180</td>\n",
       "      <td>192.168.1.37</td>\n",
       "      <td>8080</td>\n",
       "      <td>tcp</td>\n",
       "      <td>-</td>\n",
       "      <td>0.000102</td>\n",
       "      <td>0</td>\n",
       "      <td>0</td>\n",
       "      <td>REJ</td>\n",
       "      <td>0</td>\n",
       "      <td>1</td>\n",
       "      <td>52</td>\n",
       "      <td>1</td>\n",
       "      <td>40</td>\n",
       "      <td>-</td>\n",
       "      <td>0</td>\n",
       "      <td>0</td>\n",
       "      <td>0</td>\n",
       "      <td>-</td>\n",
       "      <td>-</td>\n",
       "      <td>-</td>\n",
       "      <td>-</td>\n",
       "      <td>-</td>\n",
       "      <td>-</td>\n",
       "      <td>-</td>\n",
       "      <td>-</td>\n",
       "      <td>-</td>\n",
       "      <td>-</td>\n",
       "      <td>-</td>\n",
       "      <td>-</td>\n",
       "      <td>-</td>\n",
       "      <td>-</td>\n",
       "      <td>0</td>\n",
       "      <td>0</td>\n",
       "      <td>0</td>\n",
       "      <td>-</td>\n",
       "      <td>-</td>\n",
       "      <td>-</td>\n",
       "      <td>-</td>\n",
       "      <td>-</td>\n",
       "      <td>-</td>\n",
       "      <td>1</td>\n",
       "      <td>backdoor</td>\n",
       "    </tr>\n",
       "    <tr>\n",
       "      <th>2</th>\n",
       "      <td>192.168.1.193</td>\n",
       "      <td>49180</td>\n",
       "      <td>192.168.1.37</td>\n",
       "      <td>8080</td>\n",
       "      <td>tcp</td>\n",
       "      <td>-</td>\n",
       "      <td>0.000148</td>\n",
       "      <td>0</td>\n",
       "      <td>0</td>\n",
       "      <td>REJ</td>\n",
       "      <td>0</td>\n",
       "      <td>1</td>\n",
       "      <td>52</td>\n",
       "      <td>1</td>\n",
       "      <td>40</td>\n",
       "      <td>-</td>\n",
       "      <td>0</td>\n",
       "      <td>0</td>\n",
       "      <td>0</td>\n",
       "      <td>-</td>\n",
       "      <td>-</td>\n",
       "      <td>-</td>\n",
       "      <td>-</td>\n",
       "      <td>-</td>\n",
       "      <td>-</td>\n",
       "      <td>-</td>\n",
       "      <td>-</td>\n",
       "      <td>-</td>\n",
       "      <td>-</td>\n",
       "      <td>-</td>\n",
       "      <td>-</td>\n",
       "      <td>-</td>\n",
       "      <td>-</td>\n",
       "      <td>0</td>\n",
       "      <td>0</td>\n",
       "      <td>0</td>\n",
       "      <td>-</td>\n",
       "      <td>-</td>\n",
       "      <td>-</td>\n",
       "      <td>-</td>\n",
       "      <td>-</td>\n",
       "      <td>-</td>\n",
       "      <td>1</td>\n",
       "      <td>backdoor</td>\n",
       "    </tr>\n",
       "    <tr>\n",
       "      <th>3</th>\n",
       "      <td>192.168.1.193</td>\n",
       "      <td>49180</td>\n",
       "      <td>192.168.1.37</td>\n",
       "      <td>8080</td>\n",
       "      <td>tcp</td>\n",
       "      <td>-</td>\n",
       "      <td>0.000113</td>\n",
       "      <td>0</td>\n",
       "      <td>0</td>\n",
       "      <td>REJ</td>\n",
       "      <td>0</td>\n",
       "      <td>1</td>\n",
       "      <td>48</td>\n",
       "      <td>1</td>\n",
       "      <td>40</td>\n",
       "      <td>-</td>\n",
       "      <td>0</td>\n",
       "      <td>0</td>\n",
       "      <td>0</td>\n",
       "      <td>-</td>\n",
       "      <td>-</td>\n",
       "      <td>-</td>\n",
       "      <td>-</td>\n",
       "      <td>-</td>\n",
       "      <td>-</td>\n",
       "      <td>-</td>\n",
       "      <td>-</td>\n",
       "      <td>-</td>\n",
       "      <td>-</td>\n",
       "      <td>-</td>\n",
       "      <td>-</td>\n",
       "      <td>-</td>\n",
       "      <td>-</td>\n",
       "      <td>0</td>\n",
       "      <td>0</td>\n",
       "      <td>0</td>\n",
       "      <td>-</td>\n",
       "      <td>-</td>\n",
       "      <td>-</td>\n",
       "      <td>-</td>\n",
       "      <td>-</td>\n",
       "      <td>-</td>\n",
       "      <td>1</td>\n",
       "      <td>backdoor</td>\n",
       "    </tr>\n",
       "    <tr>\n",
       "      <th>4</th>\n",
       "      <td>192.168.1.193</td>\n",
       "      <td>49180</td>\n",
       "      <td>192.168.1.37</td>\n",
       "      <td>8080</td>\n",
       "      <td>tcp</td>\n",
       "      <td>-</td>\n",
       "      <td>0.000130</td>\n",
       "      <td>0</td>\n",
       "      <td>0</td>\n",
       "      <td>REJ</td>\n",
       "      <td>0</td>\n",
       "      <td>1</td>\n",
       "      <td>52</td>\n",
       "      <td>1</td>\n",
       "      <td>40</td>\n",
       "      <td>-</td>\n",
       "      <td>0</td>\n",
       "      <td>0</td>\n",
       "      <td>0</td>\n",
       "      <td>-</td>\n",
       "      <td>-</td>\n",
       "      <td>-</td>\n",
       "      <td>-</td>\n",
       "      <td>-</td>\n",
       "      <td>-</td>\n",
       "      <td>-</td>\n",
       "      <td>-</td>\n",
       "      <td>-</td>\n",
       "      <td>-</td>\n",
       "      <td>-</td>\n",
       "      <td>-</td>\n",
       "      <td>-</td>\n",
       "      <td>-</td>\n",
       "      <td>0</td>\n",
       "      <td>0</td>\n",
       "      <td>0</td>\n",
       "      <td>-</td>\n",
       "      <td>-</td>\n",
       "      <td>-</td>\n",
       "      <td>-</td>\n",
       "      <td>-</td>\n",
       "      <td>-</td>\n",
       "      <td>1</td>\n",
       "      <td>backdoor</td>\n",
       "    </tr>\n",
       "  </tbody>\n",
       "</table>\n",
       "</div>"
      ],
      "text/plain": [
       "          src_ip  src_port         dst_ip  dst_port proto service    duration  \\\n",
       "0   192.168.1.37      4444  192.168.1.193     49178   tcp       -  290.371539   \n",
       "1  192.168.1.193     49180   192.168.1.37      8080   tcp       -    0.000102   \n",
       "2  192.168.1.193     49180   192.168.1.37      8080   tcp       -    0.000148   \n",
       "3  192.168.1.193     49180   192.168.1.37      8080   tcp       -    0.000113   \n",
       "4  192.168.1.193     49180   192.168.1.37      8080   tcp       -    0.000130   \n",
       "\n",
       "   src_bytes  dst_bytes conn_state  missed_bytes  src_pkts  src_ip_bytes  \\\n",
       "0     101568       2592        OTH             0       108        108064   \n",
       "1          0          0        REJ             0         1            52   \n",
       "2          0          0        REJ             0         1            52   \n",
       "3          0          0        REJ             0         1            48   \n",
       "4          0          0        REJ             0         1            52   \n",
       "\n",
       "   dst_pkts  dst_ip_bytes dns_query  dns_qclass  dns_qtype  dns_rcode dns_AA  \\\n",
       "0        31          3832         -           0          0          0      -   \n",
       "1         1            40         -           0          0          0      -   \n",
       "2         1            40         -           0          0          0      -   \n",
       "3         1            40         -           0          0          0      -   \n",
       "4         1            40         -           0          0          0      -   \n",
       "\n",
       "  dns_RD dns_RA dns_rejected ssl_version ssl_cipher ssl_resumed  \\\n",
       "0      -      -            -           -          -           -   \n",
       "1      -      -            -           -          -           -   \n",
       "2      -      -            -           -          -           -   \n",
       "3      -      -            -           -          -           -   \n",
       "4      -      -            -           -          -           -   \n",
       "\n",
       "  ssl_established ssl_subject ssl_issuer http_trans_depth http_method  \\\n",
       "0               -           -          -                -           -   \n",
       "1               -           -          -                -           -   \n",
       "2               -           -          -                -           -   \n",
       "3               -           -          -                -           -   \n",
       "4               -           -          -                -           -   \n",
       "\n",
       "  http_uri http_version  http_request_body_len  http_response_body_len  \\\n",
       "0        -            -                      0                       0   \n",
       "1        -            -                      0                       0   \n",
       "2        -            -                      0                       0   \n",
       "3        -            -                      0                       0   \n",
       "4        -            -                      0                       0   \n",
       "\n",
       "   http_status_code http_user_agent http_orig_mime_types http_resp_mime_types  \\\n",
       "0                 0               -                    -                    -   \n",
       "1                 0               -                    -                    -   \n",
       "2                 0               -                    -                    -   \n",
       "3                 0               -                    -                    -   \n",
       "4                 0               -                    -                    -   \n",
       "\n",
       "  weird_name weird_addl weird_notice  label      type  \n",
       "0          -          -            -      1  backdoor  \n",
       "1          -          -            -      1  backdoor  \n",
       "2          -          -            -      1  backdoor  \n",
       "3          -          -            -      1  backdoor  \n",
       "4          -          -            -      1  backdoor  "
      ]
     },
     "execution_count": 4,
     "metadata": {},
     "output_type": "execute_result"
    }
   ],
   "source": [
    "df = pd.read_csv('./dataset/toniot.csv.gz')\n",
    "df.head()"
   ]
  },
  {
   "cell_type": "markdown",
   "id": "ad2137f3-63a8-4946-99db-5046dbf75e8c",
   "metadata": {},
   "source": [
    "#### Available attributes in the dataset"
   ]
  },
  {
   "cell_type": "code",
   "execution_count": 5,
   "id": "730006d0-5c89-4b5d-860d-1cbf46c3d3a9",
   "metadata": {},
   "outputs": [
    {
     "name": "stdout",
     "output_type": "stream",
     "text": [
      "['src_ip' 'src_port' 'dst_ip' 'dst_port' 'proto' 'service' 'duration'\n",
      " 'src_bytes' 'dst_bytes' 'conn_state' 'missed_bytes' 'src_pkts'\n",
      " 'src_ip_bytes' 'dst_pkts' 'dst_ip_bytes' 'dns_query' 'dns_qclass'\n",
      " 'dns_qtype' 'dns_rcode' 'dns_AA' 'dns_RD' 'dns_RA' 'dns_rejected'\n",
      " 'ssl_version' 'ssl_cipher' 'ssl_resumed' 'ssl_established' 'ssl_subject'\n",
      " 'ssl_issuer' 'http_trans_depth' 'http_method' 'http_uri' 'http_version'\n",
      " 'http_request_body_len' 'http_response_body_len' 'http_status_code'\n",
      " 'http_user_agent' 'http_orig_mime_types' 'http_resp_mime_types'\n",
      " 'weird_name' 'weird_addl' 'weird_notice' 'label' 'type'] 44\n"
     ]
    }
   ],
   "source": [
    "print(df.columns.values, len(df.columns.values))"
   ]
  },
  {
   "cell_type": "markdown",
   "id": "451997f8-949e-4eb2-9208-614be27ce4d3",
   "metadata": {},
   "source": [
    "#### The total number of samples"
   ]
  },
  {
   "cell_type": "code",
   "execution_count": 6,
   "id": "a003fb7e-4a61-42cb-9ad7-42434bc2a15d",
   "metadata": {},
   "outputs": [
    {
     "name": "stdout",
     "output_type": "stream",
     "text": [
      "There are 211043 flow-based samples\n"
     ]
    }
   ],
   "source": [
    "print(f\"There are {df.shape[0]} flow-based samples\")"
   ]
  },
  {
   "cell_type": "markdown",
   "id": "055819e5-f621-48a8-b872-f331eab8c450",
   "metadata": {},
   "source": [
    "#### Checking the available classes"
   ]
  },
  {
   "cell_type": "code",
   "execution_count": 7,
   "id": "0770409f-888a-4590-bc7f-5e06bfb31e84",
   "metadata": {},
   "outputs": [
    {
     "data": {
      "text/plain": [
       "type\n",
       "normal        50000\n",
       "backdoor      20000\n",
       "ddos          20000\n",
       "dos           20000\n",
       "injection     20000\n",
       "password      20000\n",
       "ransomware    20000\n",
       "scanning      20000\n",
       "xss           20000\n",
       "mitm           1043\n",
       "Name: count, dtype: int64"
      ]
     },
     "execution_count": 7,
     "metadata": {},
     "output_type": "execute_result"
    }
   ],
   "source": [
    "df['type'].value_counts()"
   ]
  },
  {
   "cell_type": "code",
   "execution_count": 8,
   "id": "29ca06b8-44ea-4ea7-bb56-72555cd900f2",
   "metadata": {},
   "outputs": [
    {
     "data": {
      "text/plain": [
       "(label\n",
       " 1    161043\n",
       " 0     50000\n",
       " Name: count, dtype: int64,\n",
       " label\n",
       " 1    0.763081\n",
       " 0    0.236919\n",
       " Name: proportion, dtype: float64)"
      ]
     },
     "execution_count": 8,
     "metadata": {},
     "output_type": "execute_result"
    }
   ],
   "source": [
    "df['label'].value_counts(), df['label'].value_counts(normalize=True)"
   ]
  },
  {
   "cell_type": "markdown",
   "id": "8b634d88-cd42-4e3b-b7ee-6c1d47cac930",
   "metadata": {},
   "source": [
    "---\n",
    "#### Signature- or Anomaly-based Discussion"
   ]
  },
  {
   "cell_type": "markdown",
   "id": "5096c843-f43d-4b2d-aa27-d3de60ac8c58",
   "metadata": {},
   "source": [
    "The attribute `label` has only two values, `0` representing a normal sample and `1` representing one of the nine available attacks in the dataset. This attribute is helpful for the binary classification task (normal or attack) or from an anomaly approach using `0` as the normal behavior and the rest as non-normal.\n",
    "\n",
    "As can be seen, the dataset is inherently unbalanced, with 76.3% of attack samples and 23.7% of normal samples. It is essential to highlight that an analysis of imbalances is important because, during operation, most of the data presented to an ML Model for inference would be normal samples.\n",
    "\n",
    "---"
   ]
  },
  {
   "cell_type": "markdown",
   "id": "be187d5b-e8dc-4ff2-8f82-de416963601c",
   "metadata": {},
   "source": [
    "#### Tuple \n",
    "\n",
    "This dataset is arranged in a 6-tuple based on the attributes:\n",
    "- src_ip\n",
    "- src_port\n",
    "- dst_ip\n",
    "- dst_port\n",
    "- proto\n",
    "- service"
   ]
  },
  {
   "cell_type": "code",
   "execution_count": 9,
   "id": "d45489b3-7dcd-4fc0-9963-b4f150fd8e41",
   "metadata": {},
   "outputs": [
    {
     "name": "stdout",
     "output_type": "stream",
     "text": [
      "And there are only 124152 flow-based samples based on the 6-tuple.\n"
     ]
    }
   ],
   "source": [
    "unique_tuples = df[['src_ip', 'src_port', 'dst_ip', 'dst_port', 'proto', 'service']].drop_duplicates().shape[0]\n",
    "print(f\"And there are only {unique_tuples} flow-based samples based on the 6-tuple.\")"
   ]
  },
  {
   "cell_type": "markdown",
   "id": "e5e66839-e20c-4bf2-a27f-024f85ecaffd",
   "metadata": {},
   "source": [
    "#### Preprocessing\n",
    "\n",
    "To use the dataset, it is important to remove all empty values (`NaN`), and infinite values. Additionally, a good practice is to work with scaled features, more info [here](https://en.wikipedia.org/wiki/Feature_scaling)."
   ]
  },
  {
   "cell_type": "code",
   "execution_count": 10,
   "id": "efdce980-57d4-49b3-bcc9-e82dad66307d",
   "metadata": {},
   "outputs": [],
   "source": [
    "# Replace infinite values with NaN\n",
    "df.replace([np.inf, -np.inf], np.nan, inplace=True)\n",
    "# Now, remove rows with NaN values (which include former infinities)\n",
    "df = df.dropna()"
   ]
  },
  {
   "cell_type": "code",
   "execution_count": 14,
   "id": "60449e5b-e098-4667-8531-83ddc27f7d41",
   "metadata": {},
   "outputs": [
    {
     "name": "stdout",
     "output_type": "stream",
     "text": [
      "<class 'pandas.core.frame.DataFrame'>\n",
      "RangeIndex: 211043 entries, 0 to 211042\n",
      "Data columns (total 44 columns):\n",
      " #   Column                  Non-Null Count   Dtype  \n",
      "---  ------                  --------------   -----  \n",
      " 0   src_ip                  211043 non-null  object \n",
      " 1   src_port                211043 non-null  int64  \n",
      " 2   dst_ip                  211043 non-null  object \n",
      " 3   dst_port                211043 non-null  int64  \n",
      " 4   proto                   211043 non-null  object \n",
      " 5   service                 211043 non-null  object \n",
      " 6   duration                211043 non-null  float64\n",
      " 7   src_bytes               211043 non-null  int64  \n",
      " 8   dst_bytes               211043 non-null  int64  \n",
      " 9   conn_state              211043 non-null  object \n",
      " 10  missed_bytes            211043 non-null  int64  \n",
      " 11  src_pkts                211043 non-null  int64  \n",
      " 12  src_ip_bytes            211043 non-null  int64  \n",
      " 13  dst_pkts                211043 non-null  int64  \n",
      " 14  dst_ip_bytes            211043 non-null  int64  \n",
      " 15  dns_query               211043 non-null  object \n",
      " 16  dns_qclass              211043 non-null  int64  \n",
      " 17  dns_qtype               211043 non-null  int64  \n",
      " 18  dns_rcode               211043 non-null  int64  \n",
      " 19  dns_AA                  211043 non-null  object \n",
      " 20  dns_RD                  211043 non-null  object \n",
      " 21  dns_RA                  211043 non-null  object \n",
      " 22  dns_rejected            211043 non-null  object \n",
      " 23  ssl_version             211043 non-null  object \n",
      " 24  ssl_cipher              211043 non-null  object \n",
      " 25  ssl_resumed             211043 non-null  object \n",
      " 26  ssl_established         211043 non-null  object \n",
      " 27  ssl_subject             211043 non-null  object \n",
      " 28  ssl_issuer              211043 non-null  object \n",
      " 29  http_trans_depth        211043 non-null  object \n",
      " 30  http_method             211043 non-null  object \n",
      " 31  http_uri                211043 non-null  object \n",
      " 32  http_version            211043 non-null  object \n",
      " 33  http_request_body_len   211043 non-null  int64  \n",
      " 34  http_response_body_len  211043 non-null  int64  \n",
      " 35  http_status_code        211043 non-null  int64  \n",
      " 36  http_user_agent         211043 non-null  object \n",
      " 37  http_orig_mime_types    211043 non-null  object \n",
      " 38  http_resp_mime_types    211043 non-null  object \n",
      " 39  weird_name              211043 non-null  object \n",
      " 40  weird_addl              211043 non-null  object \n",
      " 41  weird_notice            211043 non-null  object \n",
      " 42  label                   211043 non-null  int64  \n",
      " 43  type                    211043 non-null  object \n",
      "dtypes: float64(1), int64(16), object(27)\n",
      "memory usage: 70.8+ MB\n"
     ]
    }
   ],
   "source": [
    "df.info()"
   ]
  },
  {
   "cell_type": "markdown",
   "id": "74a28671-d522-43bd-91ce-e3e94a68f7d5",
   "metadata": {},
   "source": [
    "### Applicable features\n",
    "\n",
    "Defining the applicable features: **only numeric** for simplicity."
   ]
  },
  {
   "cell_type": "code",
   "execution_count": 15,
   "id": "a3fe4576-8fb0-4581-8116-ef7a8b849b9e",
   "metadata": {},
   "outputs": [
    {
     "data": {
      "text/plain": [
       "['src_port',\n",
       " 'dst_port',\n",
       " 'duration',\n",
       " 'src_bytes',\n",
       " 'dst_bytes',\n",
       " 'missed_bytes',\n",
       " 'src_pkts',\n",
       " 'src_ip_bytes',\n",
       " 'dst_pkts',\n",
       " 'dst_ip_bytes',\n",
       " 'dns_qclass',\n",
       " 'dns_qtype',\n",
       " 'dns_rcode',\n",
       " 'http_request_body_len',\n",
       " 'http_response_body_len',\n",
       " 'http_status_code',\n",
       " 'label']"
      ]
     },
     "execution_count": 15,
     "metadata": {},
     "output_type": "execute_result"
    }
   ],
   "source": [
    "numeric_df = df.select_dtypes(include='number')\n",
    "features = numeric_df.columns.tolist()\n",
    "features"
   ]
  },
  {
   "cell_type": "code",
   "execution_count": 16,
   "id": "ba8f3feb-39bb-4f61-9497-630a13ac70b2",
   "metadata": {},
   "outputs": [
    {
     "data": {
      "text/plain": [
       "['src_port',\n",
       " 'dst_port',\n",
       " 'duration',\n",
       " 'src_bytes',\n",
       " 'dst_bytes',\n",
       " 'missed_bytes',\n",
       " 'src_pkts',\n",
       " 'src_ip_bytes',\n",
       " 'dst_pkts',\n",
       " 'dst_ip_bytes',\n",
       " 'dns_qclass',\n",
       " 'dns_qtype',\n",
       " 'dns_rcode',\n",
       " 'http_request_body_len',\n",
       " 'http_response_body_len',\n",
       " 'http_status_code']"
      ]
     },
     "execution_count": 16,
     "metadata": {},
     "output_type": "execute_result"
    }
   ],
   "source": [
    "features.remove('label') # to be used as target variable\n",
    "features"
   ]
  },
  {
   "cell_type": "markdown",
   "id": "08792d2c-e3ca-4dae-be1f-4b53b9e94222",
   "metadata": {},
   "source": [
    "## Creating the train and test dataset splits\n",
    "\n",
    "- Training: 70%\n",
    "- Test: 30%"
   ]
  },
  {
   "cell_type": "code",
   "execution_count": 18,
   "id": "fbfba920-d7d2-49a4-96fa-7b7f92b91764",
   "metadata": {},
   "outputs": [],
   "source": [
    "X_train, X_test, y_train, y_test = train_test_split(df[features], df['label'], test_size=0.30, random_state=42)"
   ]
  },
  {
   "cell_type": "markdown",
   "id": "50731293-8f5d-4b0a-8a39-903e7bcbd5d9",
   "metadata": {},
   "source": [
    "## Scaling the features"
   ]
  },
  {
   "cell_type": "code",
   "execution_count": 20,
   "id": "bda9e081-708d-456a-8f9c-fc188dc2e1d1",
   "metadata": {},
   "outputs": [],
   "source": [
    "scaler = StandardScaler()\n",
    "X_train_scaled = scaler.fit_transform(X_train)\n",
    "X_test_scaled = scaler.transform(X_test)"
   ]
  },
  {
   "cell_type": "markdown",
   "id": "9bc30a9e-7282-43e6-a74e-513f1fcb09c7",
   "metadata": {},
   "source": [
    "---\n",
    "# Applying Machine Learning to the NIDS flow-based data\n",
    "## Supervised Learning\n",
    "\n",
    "Models evaluated:\n",
    "- Decision Tree\n",
    "- Random Forest\n",
    "- SVM\n",
    "- Logistic Regression"
   ]
  },
  {
   "cell_type": "code",
   "execution_count": 26,
   "id": "28292c35-a031-45d7-a063-b7ca3606c0e2",
   "metadata": {},
   "outputs": [],
   "source": [
    "decision_tree = DecisionTreeClassifier(random_state=42)\n",
    "random_forest = RandomForestClassifier(random_state=42)\n",
    "np.random.seed(42)\n",
    "svm = SVC()\n",
    "logistic_regression = LogisticRegression(random_state=42)\n",
    "\n",
    "models = [decision_tree, random_forest, svm, logistic_regression]\n",
    "model_names = ['Decision Tree', 'Random Forest', 'SVM', 'Logistic Regression']"
   ]
  },
  {
   "cell_type": "markdown",
   "id": "6a12ff2c-a941-46b3-bd33-8b44da6c1ed0",
   "metadata": {},
   "source": [
    "### Training and Evaluation (Learning Metrics)\n",
    "The following cell runs the training with the `model.fit()` method and then performs the prediction with the `model.predict()` method. It is important to highlight that training is performed with training data (`X_train_scaled`), and test (predict) is performed with the testing subset (`X_test_scaled`).\n",
    "\n",
    "It uses `model.predict_proba()` or `model.decision_function()` to calculate the ROC curve.\n",
    "\n",
    "After training, the following metrics are calculated:\n",
    "\n",
    "- $\\text{Accuracy} = \\frac{\\text{Number of Correct Predictions}}{\\text{Total Number of Predictions}}$\n",
    "\n",
    "- $\\text{Precision} = \\frac{\\text{True Positives}}{\\text{True Positives + False Positives}}$\n",
    "\n",
    "- $\\text{Recall} = \\frac{\\text{True Positives}}{\\text{True Positives + False Negatives}}$   (or Sensitivity or True Positive Rate)\n",
    "\n",
    "- ROC AUC (Area Under the Receiver Operating Characteristic Curve)$ = \\int_{0}^{1} \\text{TPR}(fpr) \\, d(fpr)$\n",
    "\n",
    "TPR is the True Positive Rate (or Recall), and \\( fpr \\) is the False Positive Rate."
   ]
  },
  {
   "cell_type": "code",
   "execution_count": 27,
   "id": "a5de3e2b-d2f8-4fef-a005-e766fed300bb",
   "metadata": {},
   "outputs": [
    {
     "name": "stdout",
     "output_type": "stream",
     "text": [
      "Results for Decision Tree:\n",
      "              precision    recall  f1-score   support\n",
      "\n",
      "           0       1.00      0.99      1.00     15045\n",
      "           1       1.00      1.00      1.00     48268\n",
      "\n",
      "    accuracy                           1.00     63313\n",
      "   macro avg       1.00      1.00      1.00     63313\n",
      "weighted avg       1.00      1.00      1.00     63313\n",
      "\n",
      "ROC AUC: 0.9967573275312318\n",
      "============================================================\n",
      "Results for Random Forest:\n",
      "              precision    recall  f1-score   support\n",
      "\n",
      "           0       1.00      1.00      1.00     15045\n",
      "           1       1.00      1.00      1.00     48268\n",
      "\n",
      "    accuracy                           1.00     63313\n",
      "   macro avg       1.00      1.00      1.00     63313\n",
      "weighted avg       1.00      1.00      1.00     63313\n",
      "\n",
      "ROC AUC: 0.999863200101637\n",
      "============================================================\n",
      "Results for SVM:\n",
      "              precision    recall  f1-score   support\n",
      "\n",
      "           0       0.95      0.61      0.74     15045\n",
      "           1       0.89      0.99      0.94     48268\n",
      "\n",
      "    accuracy                           0.90     63313\n",
      "   macro avg       0.92      0.80      0.84     63313\n",
      "weighted avg       0.91      0.90      0.89     63313\n",
      "\n",
      "ROC AUC: 0.8872230798006797\n",
      "============================================================\n",
      "Results for Logistic Regression:\n",
      "              precision    recall  f1-score   support\n",
      "\n",
      "           0       0.84      0.53      0.65     15045\n",
      "           1       0.87      0.97      0.92     48268\n",
      "\n",
      "    accuracy                           0.87     63313\n",
      "   macro avg       0.86      0.75      0.79     63313\n",
      "weighted avg       0.86      0.87      0.85     63313\n",
      "\n",
      "ROC AUC: 0.8528889148140784\n",
      "============================================================\n"
     ]
    }
   ],
   "source": [
    "for model, name in zip(models, model_names):\n",
    "    model.fit(X_train_scaled, y_train)\n",
    "    y_pred = model.predict(X_test_scaled)\n",
    "    y_proba = model.predict_proba(X_test_scaled)[:,1] if hasattr(model, \"predict_proba\") else model.decision_function(X_test_scaled)\n",
    "    fpr, tpr, _ = roc_curve(y_test, y_proba)\n",
    "    auc = roc_auc_score(y_test, y_proba)\n",
    "    print(f\"Results for {name}:\")\n",
    "    print(classification_report(y_test, y_pred))\n",
    "    print(f\"ROC AUC: {auc}\")\n",
    "    print(\"===\"*20)"
   ]
  },
  {
   "cell_type": "code",
   "execution_count": null,
   "id": "8a9f61c2-4fed-4b34-89b1-174335d8683b",
   "metadata": {},
   "outputs": [],
   "source": [
    "results = []\n",
    "\n",
    "for model, name in zip(models, model_names):\n",
    "    y_pred = model.predict(X_test_scaled)\n",
    "    y_proba = model.predict_proba(X_test_scaled)[:,1] if hasattr(model, \"predict_proba\") else model.decision_function(X_test_scaled)\n",
    "    accuracy = accuracy_score(y_test, y_pred)\n",
    "    precision, recall, f1, _ = precision_recall_fscore_support(y_test, y_pred, average='binary')\n",
    "    auc = roc_auc_score(y_test, y_proba)\n",
    "    results.append({\"Model\": name, \"Accuracy\": accuracy, \"Precision\": precision, \"Recall\": recall, \"F1-Score\": f1, \"ROC-AUC\": auc})\n",
    "\n",
    "results_df = pd.DataFrame(results)\n",
    "print(results_df)"
   ]
  },
  {
   "cell_type": "markdown",
   "id": "5612f9a1-8202-475e-ac87-bc33f475b52e",
   "metadata": {},
   "source": [
    "## Unsupervised Learning\n",
    "\n",
    "Model Evaluated:\n",
    "- KMeans: using two clusters to represent benign and attack samples"
   ]
  },
  {
   "cell_type": "code",
   "execution_count": null,
   "id": "8ae2d218-f2c5-4f3e-8b29-28cd9d7a21cc",
   "metadata": {},
   "outputs": [],
   "source": [
    "kmeans = KMeans(n_clusters=2, random_state=42)\n",
    "kmeans = kmeans.fit(X_train_scaled)"
   ]
  },
  {
   "cell_type": "code",
   "execution_count": null,
   "id": "50436858-2e9b-493f-8fa4-d5ff884a634f",
   "metadata": {},
   "outputs": [],
   "source": [
    "train_labels = kmeans.predict(X_train_scaled)\n",
    "test_labels = kmeans.predict(X_test_scaled)"
   ]
  },
  {
   "cell_type": "markdown",
   "id": "e63f912e-5764-467c-8236-328dc3e57a29",
   "metadata": {},
   "source": [
    "### Using the Silhouette Score \n",
    "The Silhouette Score is a measure used to evaluate the quality of clusters created by clustering algorithms. It calculates how similar an object is to its own cluster compared to other clusters. The score ranges from -1 to 1, where a high value indicates that the object is well-matched to its own cluster and poorly matched to neighboring clusters, thus signifying well-separated clusters. This metric is particularly useful for assessing the effectiveness of clustering algorithms like K-Means on a dataset."
   ]
  },
  {
   "cell_type": "code",
   "execution_count": null,
   "id": "8f3d2a24-8ab4-4c52-a987-b5f454341270",
   "metadata": {},
   "outputs": [],
   "source": [
    "silhouette_train = silhouette_score(X_train_scaled, train_labels)\n",
    "silhouette_test = silhouette_score(X_test_scaled, test_labels)\n",
    "\n",
    "print(\"Silhouette Score for training set: \", silhouette_train)\n",
    "print(\"Silhouette Score for test set: \", silhouette_test)"
   ]
  },
  {
   "cell_type": "code",
   "execution_count": null,
   "id": "d6f45e27-8350-4e24-aa32-340d49bf23fe",
   "metadata": {},
   "outputs": [],
   "source": []
  }
 ],
 "metadata": {
  "kernelspec": {
   "display_name": "venv",
   "language": "python",
   "name": "venv"
  },
  "language_info": {
   "codemirror_mode": {
    "name": "ipython",
    "version": 3
   },
   "file_extension": ".py",
   "mimetype": "text/x-python",
   "name": "python",
   "nbconvert_exporter": "python",
   "pygments_lexer": "ipython3",
   "version": "3.10.12"
  }
 },
 "nbformat": 4,
 "nbformat_minor": 5
}
